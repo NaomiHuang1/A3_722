{
 "cells": [
  {
   "cell_type": "code",
   "execution_count": 1,
   "id": "ed3bcec3",
   "metadata": {},
   "outputs": [
    {
     "name": "stderr",
     "output_type": "stream",
     "text": [
      "WARNING: An illegal reflective access operation has occurred\n",
      "WARNING: Illegal reflective access by org.apache.spark.unsafe.Platform (file:/home/ubuntu/spark-3.2.1-bin-hadoop2.7/jars/spark-unsafe_2.12-3.2.1.jar) to constructor java.nio.DirectByteBuffer(long,int)\n",
      "WARNING: Please consider reporting this to the maintainers of org.apache.spark.unsafe.Platform\n",
      "WARNING: Use --illegal-access=warn to enable warnings of further illegal reflective access operations\n",
      "WARNING: All illegal access operations will be denied in a future release\n",
      "Using Spark's default log4j profile: org/apache/spark/log4j-defaults.properties\n",
      "Setting default log level to \"WARN\".\n",
      "To adjust logging level use sc.setLogLevel(newLevel). For SparkR, use setLogLevel(newLevel).\n",
      "23/10/10 17:38:10 WARN NativeCodeLoader: Unable to load native-hadoop library for your platform... using builtin-java classes where applicable\n"
     ]
    }
   ],
   "source": [
    "import findspark\n",
    "findspark.init('/home/ubuntu/spark-3.2.1-bin-hadoop2.7')\n",
    "import pyspark\n",
    "from pyspark.sql import SparkSession\n",
    "spark = SparkSession.builder.appName('722_I4').getOrCreate()\n",
    "from pyspark.sql.functions import mean,when\n",
    "from pyspark.sql.functions import count, col, desc\n",
    "from pyspark.sql.functions import sum as spark_sum\n",
    "from pyspark.ml.feature import StringIndexer, OneHotEncoder\n",
    "\n",
    "from pyspark.ml.functions import vector_to_array\n",
    "\n",
    "import pandas as pd\n",
    "import matplotlib.pyplot as plt"
   ]
  },
  {
   "cell_type": "code",
   "execution_count": 2,
   "id": "50420d73",
   "metadata": {},
   "outputs": [
    {
     "name": "stderr",
     "output_type": "stream",
     "text": [
      "[Stage 1:>                                                          (0 + 1) / 1]\r"
     ]
    },
    {
     "name": "stdout",
     "output_type": "stream",
     "text": [
      "root\n",
      " |-- ID: integer (nullable = true)\n",
      " |-- gender: string (nullable = true)\n",
      " |-- age: double (nullable = true)\n",
      "\n"
     ]
    },
    {
     "name": "stderr",
     "output_type": "stream",
     "text": [
      "\r",
      "                                                                                \r"
     ]
    }
   ],
   "source": [
    "df1 = spark.read.csv('Diabetes_1.csv', inferSchema=True, header=True)\n",
    "df1.printSchema()\n"
   ]
  },
  {
   "cell_type": "code",
   "execution_count": 3,
   "id": "c3d88dd6",
   "metadata": {},
   "outputs": [
    {
     "name": "stdout",
     "output_type": "stream",
     "text": [
      "root\n",
      " |-- ID: integer (nullable = true)\n",
      " |-- hypertension: integer (nullable = true)\n",
      " |-- heart_disease: integer (nullable = true)\n",
      " |-- smoking_history: string (nullable = true)\n",
      " |-- bmi: double (nullable = true)\n",
      " |-- HbA1c_level: double (nullable = true)\n",
      " |-- blood_glucose_level: integer (nullable = true)\n",
      " |-- diabetes: integer (nullable = true)\n",
      "\n"
     ]
    },
    {
     "name": "stderr",
     "output_type": "stream",
     "text": [
      "\r",
      "[Stage 3:>                                                          (0 + 1) / 1]\r",
      "\r",
      "                                                                                \r"
     ]
    }
   ],
   "source": [
    "df2 = spark.read.csv('Diabetes_2.csv', inferSchema=True, header=True)\n",
    "df2.printSchema()"
   ]
  },
  {
   "cell_type": "code",
   "execution_count": 4,
   "id": "04d8f8cd",
   "metadata": {},
   "outputs": [
    {
     "name": "stdout",
     "output_type": "stream",
     "text": [
      "root\n",
      " |-- ID: integer (nullable = true)\n",
      " |-- hypertension: integer (nullable = true)\n",
      " |-- heart_disease: integer (nullable = true)\n",
      " |-- smoking_history: string (nullable = true)\n",
      " |-- bmi: double (nullable = true)\n",
      " |-- diabetes: integer (nullable = true)\n",
      "\n"
     ]
    }
   ],
   "source": [
    "df2 = df2.drop('blood_glucose_level', 'HbA1c_level')\n",
    "df2.printSchema()"
   ]
  },
  {
   "cell_type": "code",
   "execution_count": 5,
   "id": "a9f41eb4",
   "metadata": {},
   "outputs": [
    {
     "name": "stderr",
     "output_type": "stream",
     "text": [
      "                                                                                \r"
     ]
    },
    {
     "name": "stdout",
     "output_type": "stream",
     "text": [
      "+---+------+---+\n",
      "| ID|gender|age|\n",
      "+---+------+---+\n",
      "|  0|   164|157|\n",
      "+---+------+---+\n",
      "\n"
     ]
    },
    {
     "name": "stderr",
     "output_type": "stream",
     "text": [
      "\r",
      "[Stage 7:>                                                          (0 + 1) / 1]\r",
      "\r",
      "                                                                                \r"
     ]
    },
    {
     "name": "stdout",
     "output_type": "stream",
     "text": [
      "+---+------------+-------------+---------------+---+--------+\n",
      "| ID|hypertension|heart_disease|smoking_history|bmi|diabetes|\n",
      "+---+------------+-------------+---------------+---+--------+\n",
      "|  0|         161|           95|            253|160|     184|\n",
      "+---+------------+-------------+---------------+---+--------+\n",
      "\n",
      "Number of entries:  100000\n",
      "Number of entries:  100000\n",
      "+---+------+---+\n",
      "| ID|gender|age|\n",
      "+---+------+---+\n",
      "|  0|     0|  0|\n",
      "+---+------+---+\n",
      "\n",
      "+---+------------+-------------+---------------+---+--------+\n",
      "| ID|hypertension|heart_disease|smoking_history|bmi|diabetes|\n",
      "+---+------------+-------------+---------------+---+--------+\n",
      "|  0|           0|            0|              0|  0|       0|\n",
      "+---+------------+-------------+---------------+---+--------+\n",
      "\n"
     ]
    }
   ],
   "source": [
    "missing_counts = df1.select([spark_sum(col(c).isNull().cast(\"int\")).alias(c) for c in df1.columns])\n",
    "missing_counts.show()\n",
    "missing_counts = df2.select([spark_sum(col(c).isNull().cast(\"int\")).alias(c) for c in df2.columns])\n",
    "missing_counts.show()\n",
    "avg_val = df1.agg(mean(df1['age'])).first()[0]\n",
    "df1 = df1.fillna({'age': avg_val})\n",
    "mode_val = df1.groupBy('gender').agg(count('gender').alias('count')).orderBy(desc('count')).first()[0]\n",
    "df1 = df1.fillna({'gender': mode_val})\n",
    "\n",
    "avg_val = df2.agg(mean(df2['hypertension'])).first()[0]\n",
    "df2 = df2.fillna({'hypertension': avg_val})\n",
    "avg_val = df2.agg(mean(df2['heart_disease'])).first()[0]\n",
    "df2 = df2.fillna({'heart_disease': avg_val})\n",
    "avg_val = df2.agg(mean(df2['bmi'])).first()[0]\n",
    "df2 = df2.fillna({'bmi': avg_val})\n",
    "avg_val = df2.agg(mean(df2['diabetes'])).first()[0]\n",
    "df2 = df2.fillna({'diabetes': avg_val})\n",
    "mode_val = df2.groupBy('smoking_history').agg(count('smoking_history').alias('count')).orderBy(desc('count')).first()[0]\n",
    "df2 = df2.fillna({'smoking_history': mode_val})\n",
    "\n",
    "print(\"Number of entries: \", df1.count())\n",
    "print(\"Number of entries: \", df2.count())\n",
    "missing_counts = df1.select([spark_sum(col(c).isNull().cast(\"int\")).alias(c) for c in df1.columns])\n",
    "missing_counts.show()\n",
    "missing_counts = df2.select([spark_sum(col(c).isNull().cast(\"int\")).alias(c) for c in df2.columns])\n",
    "missing_counts.show()"
   ]
  },
  {
   "cell_type": "code",
   "execution_count": 6,
   "id": "c20ead33",
   "metadata": {},
   "outputs": [
    {
     "name": "stderr",
     "output_type": "stream",
     "text": [
      "\r",
      "[Stage 43:>                                                         (0 + 1) / 1]\r",
      "\r",
      "                                                                                \r"
     ]
    },
    {
     "data": {
      "image/png": "[encoded data removed]",
      "text/plain": [
       "<Figure size 432x288 with 1 Axes>"
      ]
     },
     "metadata": {
      "needs_background": "light"
     },
     "output_type": "display_data"
    }
   ],
   "source": [
    "\n",
    "df2 = df2.filter((df2.bmi <= 100) & (df2.bmi >= 0))\n",
    "df_pd = df2.toPandas()\n",
    "plt.scatter(range(len(df_pd['bmi'])), df_pd['bmi'])\n",
    "plt.title('Scatter plot for BMI')\n",
    "plt.xlabel('Index')\n",
    "plt.ylabel('Value')\n",
    "plt.show()"
   ]
  },
  {
   "cell_type": "code",
   "execution_count": 7,
   "id": "96f66165",
   "metadata": {},
   "outputs": [
    {
     "name": "stdout",
     "output_type": "stream",
     "text": [
      "root\n",
      " |-- ID: integer (nullable = true)\n",
      " |-- gender: string (nullable = false)\n",
      " |-- age: double (nullable = false)\n",
      " |-- hypertension: integer (nullable = true)\n",
      " |-- heart_disease: integer (nullable = true)\n",
      " |-- smoking_history: string (nullable = false)\n",
      " |-- bmi: double (nullable = false)\n",
      " |-- diabetes: integer (nullable = true)\n",
      "\n",
      "Number of entries:  99998\n"
     ]
    }
   ],
   "source": [
    "df = df1.join(df2, 'id', 'inner')\n",
    "df.printSchema()\n",
    "print(\"Number of entries: \", df.count())"
   ]
  },
  {
   "cell_type": "code",
   "execution_count": 8,
   "id": "334e88b6",
   "metadata": {},
   "outputs": [],
   "source": [
    "age_bins = [0, 2, 4, 13, 20, 30, 50, 65, 81]\n",
    "age_labels = [\"Infants\", \"Toddlers\", \"Children\", \"Teenagers\", \"Young\", \"Middle-aged\", \"Older adults\", \"Seniors\"]\n",
    "\n",
    "age_column_expr = when(col(\"age\") < age_bins[0], None)  \n",
    "for i in range(len(age_bins) - 1):\n",
    "    age_column_expr = age_column_expr.when((col(\"age\") >= age_bins[i]) & (col(\"age\") < age_bins[i + 1]), age_labels[i])\n",
    "\n",
    "df = df.withColumn(\"Age group\", age_column_expr)\n",
    "\n",
    "bmi_bins = [0, 18.50, 24.99, 29.99, 34.99, 39.99, 100]\n",
    "bmi_labels = [\"Underweight\", \"Normal weight\", \"Overweight\", \"Obesity I\", \"Obesity II\", \"Obesity III\"]\n",
    "\n",
    "bmi_column_expr = when(col(\"bmi\") < bmi_bins[0], None)  \n",
    "for i in range(len(bmi_bins) - 1):\n",
    "    bmi_column_expr = bmi_column_expr.when((col(\"bmi\") >= bmi_bins[i]) & (col(\"bmi\") < bmi_bins[i + 1]), bmi_labels[i])\n",
    "\n",
    "df = df.withColumn(\"Bmi class\", bmi_column_expr)\n"
   ]
  },
  {
   "cell_type": "code",
   "execution_count": 9,
   "id": "158580ec",
   "metadata": {},
   "outputs": [
    {
     "name": "stdout",
     "output_type": "stream",
     "text": [
      "root\n",
      " |-- ID: integer (nullable = true)\n",
      " |-- gender: string (nullable = false)\n",
      " |-- age: double (nullable = false)\n",
      " |-- hypertension: integer (nullable = true)\n",
      " |-- heart_disease: integer (nullable = true)\n",
      " |-- smoking_history: string (nullable = false)\n",
      " |-- bmi: double (nullable = false)\n",
      " |-- diabetes: integer (nullable = true)\n",
      " |-- Age group: string (nullable = true)\n",
      " |-- Bmi class: string (nullable = true)\n",
      " |-- Medical_History_Count: integer (nullable = true)\n",
      "\n"
     ]
    }
   ],
   "source": [
    "medical_features = ['hypertension', 'heart_disease']\n",
    "\n",
    "df = df.withColumn(\"Medical_History_Count\", sum(col(feature) for feature in medical_features))\n",
    "df.printSchema()"
   ]
  },
  {
   "cell_type": "code",
   "execution_count": 10,
   "id": "0729d540",
   "metadata": {},
   "outputs": [
    {
     "name": "stderr",
     "output_type": "stream",
     "text": [
      "                                                                                \r"
     ]
    }
   ],
   "source": [
    "indexer = StringIndexer(inputCol=\"Age group\", outputCol=\"Age group_index\")\n",
    "indexed_model = indexer.fit(df)\n",
    "df = indexed_model.transform(df)\n",
    "labels = indexed_model.labels\n",
    "encoder = OneHotEncoder(inputCols=[\"Age group_index\"], outputCols=[\"Age group_encoded\"], dropLast=False)\n",
    "df = encoder.fit(df).transform(df)\n",
    "num_categories_age = df.select(\"Age group_index\").distinct().count()\n",
    "df = df.withColumn(\"Age group_array\", vector_to_array(\"Age group_encoded\"))\n",
    "for i, label in enumerate(labels):\n",
    "    df = df.withColumn(f\"Age group_{label}\", col(\"Age group_array\")[i].cast(\"int\"))\n",
    "\n",
    "indexer = StringIndexer(inputCol=\"Bmi class\", outputCol=\"Bmi class_index\")\n",
    "indexed_model = indexer.fit(df)\n",
    "df = indexed_model.transform(df)\n",
    "labels = indexed_model.labels\n",
    "encoder = OneHotEncoder(inputCols=[\"Bmi class_index\"], outputCols=[\"Bmi class_encoded\"], dropLast=False)\n",
    "df = encoder.fit(df).transform(df)\n",
    "num_categories_bmi = df.select(\"Bmi class_index\").distinct().count()\n",
    "df = df.withColumn(\"Bmi class_array\", vector_to_array(\"Bmi class_encoded\"))\n",
    "for i, label in enumerate(labels):\n",
    "    df = df.withColumn(f\"Bmi class_{label}\", col(\"Bmi class_array\")[i].cast(\"int\"))\n",
    "\n",
    "\n",
    "indexer = StringIndexer(inputCol=\"gender\", outputCol=\"gender_index\")\n",
    "indexed_model = indexer.fit(df)\n",
    "df = indexed_model.transform(df)\n",
    "labels = indexed_model.labels\n",
    "encoder = OneHotEncoder(inputCols=[\"gender_index\"], outputCols=[\"gender_encoded\"], dropLast=False)\n",
    "df = encoder.fit(df).transform(df)\n",
    "num_categories_gender = df.select(\"gender_index\").distinct().count()\n",
    "df = df.withColumn(\"gender_array\", vector_to_array(\"gender_encoded\"))\n",
    "for i, label in enumerate(labels):\n",
    "    df = df.withColumn(f\"gender_{label}\", col(\"gender_array\")[i].cast(\"int\"))\n",
    "\n",
    "indexer = StringIndexer(inputCol=\"smoking_history\", outputCol=\"smoking_history_index\")\n",
    "indexed_model = indexer.fit(df)\n",
    "df = indexed_model.transform(df)\n",
    "labels = indexed_model.labels\n",
    "encoder = OneHotEncoder(inputCols=[\"smoking_history_index\"], outputCols=[\"smoking_history_encoded\"], dropLast=False)\n",
    "df = encoder.fit(df).transform(df)\n",
    "num_categories_smoking = df.select(\"smoking_history_index\").distinct().count()\n",
    "df = df.withColumn(\"smoking_history_array\", vector_to_array(\"smoking_history_encoded\"))\n",
    "for i, label in enumerate(labels):\n",
    "    df = df.withColumn(f\"smoking_history_{label}\", col(\"smoking_history_array\")[i].cast(\"int\"))\n",
    "\n",
    "indexer = StringIndexer(inputCol=\"Medical_History_Count\", outputCol=\"Medical_History_Count_index\")\n",
    "indexed_model = indexer.fit(df)\n",
    "df = indexed_model.transform(df)\n",
    "labels = indexed_model.labels\n",
    "encoder = OneHotEncoder(inputCols=[\"Medical_History_Count_index\"], outputCols=[\"Medical_History_Count_encoded\"], dropLast=False)\n",
    "df = encoder.fit(df).transform(df)\n",
    "num_categories_medical = df.select(\"Medical_History_Count_index\").distinct().count()\n",
    "df = df.withColumn(\"Medical_History_Count_array\", vector_to_array(\"Medical_History_Count_encoded\"))\n",
    "for i, label in enumerate(labels):\n",
    "    df = df.withColumn(f\"Medical_History_Count_{label}\", col(\"Medical_History_Count_array\")[i].cast(\"int\"))\n",
    "\n",
    "columns_to_drop = [\"Age group_index\", \"Bmi class_index\", \"gender_index\", \"smoking_history_index\", \n",
    "                   \"Medical_History_Count_index\", \"Age group_encoded\", \"Bmi class_encoded\", \n",
    "                   \"gender_encoded\", \"smoking_history_encoded\", \"Medical_History_Count_encoded\", \n",
    "                   \"Age group_array\", \"Bmi class_array\", \"gender_array\", \"smoking_history_array\", \n",
    "                   \"Medical_History_Count_array\"]\n",
    "df = df.drop(*columns_to_drop)\n"
   ]
  },
  {
   "cell_type": "code",
   "execution_count": 11,
   "id": "5683683f",
   "metadata": {},
   "outputs": [],
   "source": [
    "\n",
    "columns_to_keep = ['hypertension','heart_disease','diabetes','Age group_Middle-aged','Age group_Older adults',\n",
    "                   'Age group_Seniors','Age group_Young','Age group_Children','Age group_Teenagers','Age group_Toddlers',\n",
    "                   'Age group_Infants','Bmi class_Overweight','Bmi class_Normal weight','Bmi class_Obesity I',\n",
    "                   'Bmi class_Underweight','Bmi class_Obesity II','Bmi class_Obesity III', 'gender_Female','gender_Male',\n",
    "                   'gender_Other', 'smoking_history_never','smoking_history_former','smoking_history_current','smoking_history_not current',\n",
    "                   'smoking_history_ever','Medical_History_Count_0','Medical_History_Count_1','Medical_History_Count_2'\n",
    "]\n",
    "\n",
    "df = df.select(columns_to_keep)"
   ]
  },
  {
   "cell_type": "code",
   "execution_count": 12,
   "id": "f2dd7b20",
   "metadata": {},
   "outputs": [
    {
     "name": "stdout",
     "output_type": "stream",
     "text": [
      "Number of entries:  64104\n"
     ]
    }
   ],
   "source": [
    "df_select = df2[df2['smoking_history'] != 'No Info']\n",
    "print(\"Number of entries: \", df_select.count())\n"
   ]
  },
  {
   "cell_type": "code",
   "execution_count": 13,
   "id": "bf8148ed",
   "metadata": {},
   "outputs": [
    {
     "name": "stderr",
     "output_type": "stream",
     "text": [
      "                                                                                \r"
     ]
    },
    {
     "name": "stdout",
     "output_type": "stream",
     "text": [
      "Medical_History_Count_0: 0.24808203612430677\n",
      "Medical_History_Count_1: 0.18204425086450834\n",
      "Age group_Seniors: 0.15425085556277252\n",
      "heart_disease: 0.10607307201925742\n",
      "hypertension: 0.09412019703347978\n",
      "Bmi class_Obesity III: 0.08497274511361004\n",
      "Medical_History_Count_2: 0.03146544644406559\n",
      "Age group_Older adults: 0.023731713357948873\n",
      "Bmi class_Obesity II: 0.02365551987063084\n",
      "Bmi class_Normal weight: 0.009387998055354273\n",
      "Age group_Middle-aged: 0.008307517739201973\n",
      "Bmi class_Underweight: 0.007928647421709161\n",
      "smoking_history_former: 0.005072472619240339\n",
      "Age group_Young: 0.004800240872902239\n",
      "Bmi class_Overweight: 0.00451891574910791\n",
      "Age group_Children: 0.002897831475169323\n",
      "Bmi class_Obesity I: 0.0022391795548750513\n",
      "gender_Male: 0.002020458015900433\n",
      "gender_Female: 0.0013004008924676449\n",
      "smoking_history_never: 0.0008999136798712404\n",
      "smoking_history_current: 0.0008133866593361493\n",
      "smoking_history_not current: 0.0006820573937598341\n",
      "smoking_history_ever: 0.00043856364643420466\n",
      "Age group_Teenagers: 0.00029657983409024093\n",
      "Age group_Toddlers: 0.0\n",
      "Age group_Infants: 0.0\n",
      "gender_Other: 0.0\n"
     ]
    }
   ],
   "source": [
    "from pyspark.ml.classification import RandomForestClassifier\n",
    "from pyspark.ml.feature import VectorAssembler\n",
    "\n",
    "input_columns = [col for col in df.columns if col != 'diabetes']\n",
    "assembler = VectorAssembler(inputCols=input_columns, outputCol=\"features\")\n",
    "data = assembler.transform(df)\n",
    "\n",
    "x = data.select(\"features\")\n",
    "y = data.select(\"diabetes\")\n",
    "\n",
    "clf = RandomForestClassifier(numTrees=100, labelCol=\"diabetes\", featuresCol=\"features\")\n",
    "model = clf.fit(data)\n",
    "\n",
    "importances = model.featureImportances\n",
    "feature_importance = dict(zip(input_columns, importances))\n",
    "\n",
    "sorted_feature_importance = sorted(feature_importance.items(), key=lambda x: x[1], reverse=True)\n",
    "for feature, importance in sorted_feature_importance:\n",
    "    print(f\"{feature}: {importance}\")"
   ]
  },
  {
   "cell_type": "code",
   "execution_count": 14,
   "id": "771f2c7f",
   "metadata": {},
   "outputs": [
    {
     "data": {
      "text/plain": [
       "['hypertension',\n",
       " 'heart_disease',\n",
       " 'diabetes',\n",
       " 'Age group_Middle-aged',\n",
       " 'Age group_Older adults',\n",
       " 'Age group_Seniors',\n",
       " 'Age group_Young',\n",
       " 'Age group_Children',\n",
       " 'Age group_Teenagers',\n",
       " 'Bmi class_Overweight',\n",
       " 'Bmi class_Normal weight',\n",
       " 'Bmi class_Obesity I',\n",
       " 'Bmi class_Underweight',\n",
       " 'Bmi class_Obesity II',\n",
       " 'Bmi class_Obesity III',\n",
       " 'gender_Female',\n",
       " 'gender_Male',\n",
       " 'smoking_history_never',\n",
       " 'smoking_history_former',\n",
       " 'smoking_history_current',\n",
       " 'smoking_history_not current',\n",
       " 'smoking_history_ever',\n",
       " 'Medical_History_Count_0',\n",
       " 'Medical_History_Count_1',\n",
       " 'Medical_History_Count_2']"
      ]
     },
     "execution_count": 14,
     "metadata": {},
     "output_type": "execute_result"
    }
   ],
   "source": [
    "non_important_features = ['Age group_Toddlers', 'Age group_Infants', 'gender_Other']\n",
    "for feature in non_important_features:\n",
    "    df = df.drop(feature)\n",
    "df.columns"
   ]
  },
  {
   "cell_type": "code",
   "execution_count": 15,
   "id": "d9152e26",
   "metadata": {},
   "outputs": [
    {
     "name": "stdout",
     "output_type": "stream",
     "text": [
      "{1: 8495, 0: 91503}\n",
      "{1: 8495, 0: 8530}\n"
     ]
    }
   ],
   "source": [
    "diabetes_counts = df.groupBy('diabetes').count().collect()\n",
    "print({row['diabetes']: row['count'] for row in diabetes_counts})\n",
    "\n",
    "df_high = df.filter(col('diabetes') == 0)\n",
    "df_low = df.filter(col('diabetes') == 1)\n",
    "df_high_reduce = df_high.sample(False, df_low.count() / df_high.count())\n",
    "df_reduced = df_low.union(df_high_reduce)\n",
    "\n",
    "reduced_diabetes_counts = df_reduced.groupBy('diabetes').count().collect()\n",
    "print({row['diabetes']: row['count'] for row in reduced_diabetes_counts})\n"
   ]
  },
  {
   "cell_type": "code",
   "execution_count": 16,
   "id": "4a1f9ed9",
   "metadata": {},
   "outputs": [
    {
     "name": "stderr",
     "output_type": "stream",
     "text": [
      "/home/ubuntu/spark-3.2.1-bin-hadoop2.7/python/pyspark/sql/context.py:125: FutureWarning: Deprecated in 3.0.0. Use SparkSession.builder.getOrCreate() instead.\n",
      "  warnings.warn(\n",
      "[Stage 169:>                                                        (0 + 2) / 2]\r"
     ]
    },
    {
     "name": "stdout",
     "output_type": "stream",
     "text": [
      "Decision Tree - Accuracy: 0.7441\n",
      "Decision Tree - 0 - Precision: 0.7576\n",
      "Decision Tree - 0 - Recall: 0.7279\n",
      "Decision Tree - 0 - F1 Score: 0.7424\n",
      "Decision Tree - 1 - Precision: 0.7314\n",
      "Decision Tree - 1 - Recall: 0.7608\n",
      "Decision Tree - 1 - F1 Score: 0.7458\n"
     ]
    },
    {
     "name": "stderr",
     "output_type": "stream",
     "text": [
      "\r",
      "[Stage 169:============================>                            (1 + 1) / 2]\r",
      "\r",
      "                                                                                \r"
     ]
    }
   ],
   "source": [
    "from pyspark.ml import Pipeline\n",
    "from pyspark.ml.feature import VectorAssembler\n",
    "from pyspark.ml.evaluation import MulticlassClassificationEvaluator\n",
    "from pyspark.mllib.evaluation import MulticlassMetrics\n",
    "from pyspark.ml.classification import DecisionTreeClassifier\n",
    "\n",
    "df_reduced = df_reduced.withColumn(\"diabetes\", col(\"diabetes\").cast(\"double\"))\n",
    "feature_cols = list(df_reduced.columns)\n",
    "feature_cols.remove(\"diabetes\")\n",
    "\n",
    "assembler = VectorAssembler(inputCols=feature_cols, outputCol=\"features\")\n",
    "train_data, test_data = df_reduced.randomSplit([0.8, 0.2], seed=42)\n",
    "\n",
    "dt_classifier = DecisionTreeClassifier(labelCol=\"diabetes\", featuresCol=\"features\")\n",
    "pipeline = Pipeline(stages=[assembler, dt_classifier])\n",
    "dt_model = pipeline.fit(train_data)\n",
    "predictions_dt = dt_model.transform(test_data)\n",
    "\n",
    "accuracy_dt = MulticlassClassificationEvaluator(labelCol=\"diabetes\", predictionCol=\"prediction\", metricName=\"accuracy\").evaluate(predictions_dt)\n",
    "\n",
    "predictionLabels_dt = predictions_dt.select(\"prediction\", \"diabetes\").rdd\n",
    "metrics_dt = MulticlassMetrics(predictionLabels_dt)\n",
    "\n",
    "precision_0_dt = metrics_dt.precision(label=0.0)\n",
    "recall_0_dt = metrics_dt.recall(label=0.0)\n",
    "f1Score_0_dt = metrics_dt.fMeasure(label=0.0)\n",
    "precision_1_dt = metrics_dt.precision(label=1.0)\n",
    "recall_1_dt = metrics_dt.recall(label=1.0)\n",
    "f1Score_1_dt = metrics_dt.fMeasure(label=1.0)\n",
    "\n",
    "print(f\"Decision Tree - Accuracy: {accuracy_dt:.4f}\")\n",
    "print(f\"Decision Tree - 0 - Precision: {precision_0_dt:.4f}\")\n",
    "print(f\"Decision Tree - 0 - Recall: {recall_0_dt:.4f}\")\n",
    "print(f\"Decision Tree - 0 - F1 Score: {f1Score_0_dt:.4f}\")\n",
    "print(f\"Decision Tree - 1 - Precision: {precision_1_dt:.4f}\")\n",
    "print(f\"Decision Tree - 1 - Recall: {recall_1_dt:.4f}\")\n",
    "print(f\"Decision Tree - 1 - F1 Score: {f1Score_1_dt:.4f}\")\n"
   ]
  },
  {
   "cell_type": "code",
   "execution_count": 17,
   "id": "b6812f5e",
   "metadata": {},
   "outputs": [
    {
     "name": "stderr",
     "output_type": "stream",
     "text": [
      "[Stage 198:>                                                        (0 + 2) / 2]\r"
     ]
    },
    {
     "name": "stdout",
     "output_type": "stream",
     "text": [
      "Random Forest - Accuracy: 0.7273\n",
      "Random Forest - 0 - Precision: 0.7157\n",
      "Random Forest - 0 - Recall: 0.7659\n",
      "Random Forest - 0 - F1 Score: 0.7400\n",
      "Random Forest - 1 - Precision: 0.7410\n",
      "Random Forest - 1 - Recall: 0.6876\n",
      "Random Forest - 1 - F1 Score: 0.7133\n"
     ]
    },
    {
     "name": "stderr",
     "output_type": "stream",
     "text": [
      "\r",
      "[Stage 198:============================>                            (1 + 1) / 2]\r",
      "\r",
      "                                                                                \r"
     ]
    }
   ],
   "source": [
    "from pyspark.ml.classification import RandomForestClassifier\n",
    "\n",
    "assembler = VectorAssembler(inputCols=feature_cols, outputCol=\"features\")\n",
    "train_data, test_data = df_reduced.randomSplit([0.8, 0.2], seed=42)\n",
    "\n",
    "rf_classifier = RandomForestClassifier(labelCol=\"diabetes\", featuresCol=\"features\")\n",
    "pipeline = Pipeline(stages=[assembler, rf_classifier])\n",
    "rf_model = pipeline.fit(train_data)\n",
    "\n",
    "predictions_rf = rf_model.transform(test_data)\n",
    "\n",
    "accuracy_rf = MulticlassClassificationEvaluator(labelCol=\"diabetes\", predictionCol=\"prediction\", metricName=\"accuracy\").evaluate(predictions_rf)\n",
    "\n",
    "predictionLabels_rf = predictions_rf.select(\"prediction\", \"diabetes\").rdd\n",
    "metrics_rf = MulticlassMetrics(predictionLabels_rf)\n",
    "\n",
    "precision_0_rf = metrics_rf.precision(label=0.0)\n",
    "recall_0_rf = metrics_rf.recall(label=0.0)\n",
    "f1Score_0_rf = metrics_rf.fMeasure(label=0.0)\n",
    "precision_1_rf = metrics_rf.precision(label=1.0)\n",
    "recall_1_rf = metrics_rf.recall(label=1.0)\n",
    "f1Score_1_rf = metrics_rf.fMeasure(label=1.0)\n",
    "\n",
    "print(f\"Random Forest - Accuracy: {accuracy_rf:.4f}\")\n",
    "print(f\"Random Forest - 0 - Precision: {precision_0_rf:.4f}\")\n",
    "print(f\"Random Forest - 0 - Recall: {recall_0_rf:.4f}\")\n",
    "print(f\"Random Forest - 0 - F1 Score: {f1Score_0_rf:.4f}\")\n",
    "print(f\"Random Forest - 1 - Precision: {precision_1_rf:.4f}\")\n",
    "print(f\"Random Forest - 1 - Recall: {recall_1_rf:.4f}\")\n",
    "print(f\"Random Forest - 1 - F1 Score: {f1Score_1_rf:.4f}\")\n"
   ]
  },
  {
   "cell_type": "code",
   "execution_count": 18,
   "id": "41cc6eaa",
   "metadata": {},
   "outputs": [
    {
     "name": "stderr",
     "output_type": "stream",
     "text": [
      "23/10/10 17:40:17 WARN InstanceBuilder$NativeBLAS: Failed to load implementation from:dev.ludovic.netlib.blas.JNIBLAS\n",
      "23/10/10 17:40:17 WARN InstanceBuilder$NativeBLAS: Failed to load implementation from:dev.ludovic.netlib.blas.ForeignLinkerBLAS\n",
      "[Stage 411:>                                                        (0 + 2) / 2]\r"
     ]
    },
    {
     "name": "stdout",
     "output_type": "stream",
     "text": [
      "Gradient Boosted Trees - Accuracy: 0.7489\n",
      "Gradient Boosted Trees - 0 - Precision: 0.7740\n",
      "Gradient Boosted Trees - 0 - Recall: 0.7124\n",
      "Gradient Boosted Trees - 0 - F1 Score: 0.7420\n",
      "Gradient Boosted Trees - 1 - Precision: 0.7270\n",
      "Gradient Boosted Trees - 1 - Recall: 0.7865\n",
      "Gradient Boosted Trees - 1 - F1 Score: 0.7556\n"
     ]
    },
    {
     "name": "stderr",
     "output_type": "stream",
     "text": [
      "\r",
      "                                                                                \r"
     ]
    }
   ],
   "source": [
    "from pyspark.ml.classification import GBTClassifier\n",
    "\n",
    "assembler = VectorAssembler(inputCols=feature_cols, outputCol=\"features\")\n",
    "train_data, test_data = df_reduced.randomSplit([0.8, 0.2], seed=42)\n",
    "\n",
    "gbt_classifier = GBTClassifier(labelCol=\"diabetes\", featuresCol=\"features\")\n",
    "pipeline = Pipeline(stages=[assembler, gbt_classifier])\n",
    "gbt_model = pipeline.fit(train_data)\n",
    "\n",
    "predictions_gbt = gbt_model.transform(test_data)\n",
    "\n",
    "accuracy_gbt = MulticlassClassificationEvaluator(labelCol=\"diabetes\", predictionCol=\"prediction\", metricName=\"accuracy\").evaluate(predictions_gbt)\n",
    "\n",
    "predictionLabels_gbt = predictions_gbt.select(\"prediction\", \"diabetes\").rdd\n",
    "metrics_gbt = MulticlassMetrics(predictionLabels_gbt)\n",
    "\n",
    "precision_0_gbt = metrics_gbt.precision(label=0.0)\n",
    "recall_0_gbt = metrics_gbt.recall(label=0.0)\n",
    "f1Score_0_gbt = metrics_gbt.fMeasure(label=0.0)\n",
    "precision_1_gbt = metrics_gbt.precision(label=1.0)\n",
    "recall_1_gbt = metrics_gbt.recall(label=1.0)\n",
    "f1Score_1_gbt = metrics_gbt.fMeasure(label=1.0)\n",
    "\n",
    "print(f\"Gradient Boosted Trees - Accuracy: {accuracy_gbt:.4f}\")\n",
    "print(f\"Gradient Boosted Trees - 0 - Precision: {precision_0_gbt:.4f}\")\n",
    "print(f\"Gradient Boosted Trees - 0 - Recall: {recall_0_gbt:.4f}\")\n",
    "print(f\"Gradient Boosted Trees - 0 - F1 Score: {f1Score_0_gbt:.4f}\")\n",
    "print(f\"Gradient Boosted Trees - 1 - Precision: {precision_1_gbt:.4f}\")\n",
    "print(f\"Gradient Boosted Trees - 1 - Recall: {recall_1_gbt:.4f}\")\n",
    "print(f\"Gradient Boosted Trees - 1 - F1 Score: {f1Score_1_gbt:.4f}\")\n"
   ]
  },
  {
   "cell_type": "code",
   "execution_count": 19,
   "id": "29eb5550",
   "metadata": {},
   "outputs": [],
   "source": [
    "# from pyspark.ml.tuning import ParamGridBuilder, CrossValidator\n",
    "# from pyspark.ml.evaluation import MulticlassClassificationEvaluator\n",
    "\n",
    "# assembler = VectorAssembler(inputCols=feature_cols, outputCol=\"features\")\n",
    "# train_data, test_data = df_reduced.randomSplit([0.8, 0.2], seed=42)\n",
    "\n",
    "# gbt_classifier = GBTClassifier(labelCol=\"diabetes\", featuresCol=\"features\")\n",
    "# pipeline = Pipeline(stages=[assembler, gbt_classifier])\n",
    "\n",
    "# paramGrid = (ParamGridBuilder()\n",
    "#              .addGrid(gbt_classifier.maxDepth, [2, 4, 6])\n",
    "#              .addGrid(gbt_classifier.maxIter, [10, 20])\n",
    "#              .addGrid(gbt_classifier.stepSize, [0.1, 0.05, 0.01])\n",
    "#              .build())\n",
    "\n",
    "# crossval = CrossValidator(estimator=pipeline,\n",
    "#                           estimatorParamMaps=paramGrid,\n",
    "#                           evaluator=MulticlassClassificationEvaluator(labelCol=\"diabetes\", predictionCol=\"prediction\", metricName=\"accuracy\"),\n",
    "#                           numFolds=5)\n",
    "# cvModel = crossval.fit(train_data)\n",
    "\n",
    "# bestPipeline = cvModel.bestModel\n",
    "# bestGBT = bestPipeline.stages[1]\n",
    "# print(\"Best Max Depth: \", bestGBT._java_obj.getMaxDepth())\n",
    "# print(\"Best Max Iterations: \", bestGBT._java_obj.getMaxIter())\n",
    "# print(\"Best Step Size: \", bestGBT._java_obj.getStepSize())\n",
    "\n"
   ]
  },
  {
   "cell_type": "code",
   "execution_count": 20,
   "id": "c9e3e7bd",
   "metadata": {},
   "outputs": [
    {
     "name": "stderr",
     "output_type": "stream",
     "text": [
      "[Stage 584:>                                                        (0 + 2) / 2]\r"
     ]
    },
    {
     "name": "stdout",
     "output_type": "stream",
     "text": [
      "Gradient Boosted Trees - Accuracy: 0.7524\n",
      "Gradient Boosted Trees - 0 - Precision: 0.8174\n",
      "Gradient Boosted Trees - 0 - Recall: 0.6576\n",
      "Gradient Boosted Trees - 0 - F1 Score: 0.7288\n",
      "Gradient Boosted Trees - 1 - Precision: 0.7077\n",
      "Gradient Boosted Trees - 1 - Recall: 0.8495\n",
      "Gradient Boosted Trees - 1 - F1 Score: 0.7721\n"
     ]
    },
    {
     "name": "stderr",
     "output_type": "stream",
     "text": [
      "\r",
      "                                                                                \r"
     ]
    }
   ],
   "source": [
    "best_max_depth = 4\n",
    "best_max_iter = 20\n",
    "best_step_size = 0.1\n",
    "\n",
    "assembler = VectorAssembler(inputCols=feature_cols, outputCol=\"features\")\n",
    "\n",
    "train_data, test_data = df_reduced.randomSplit([0.7, 0.3], seed=42)\n",
    "\n",
    "gbt_classifier = GBTClassifier(\n",
    "    labelCol=\"diabetes\", \n",
    "    featuresCol=\"features\", \n",
    "    maxDepth=4, \n",
    "    maxIter=20, \n",
    "    stepSize=0.1\n",
    ")\n",
    "\n",
    "pipeline = Pipeline(stages=[assembler, gbt_classifier])\n",
    "gbt_model = pipeline.fit(train_data)\n",
    "predictions_gbt = gbt_model.transform(test_data)\n",
    "\n",
    "evaluator = MulticlassClassificationEvaluator(labelCol=\"diabetes\", predictionCol=\"prediction\")\n",
    "accuracy_gbt = evaluator.evaluate(predictions_gbt, {evaluator.metricName: \"accuracy\"})\n",
    "\n",
    "predictionLabels_gbt = predictions_gbt.select(\"prediction\", \"diabetes\").rdd\n",
    "metrics_gbt = MulticlassMetrics(predictionLabels_gbt)\n",
    "\n",
    "precision_0_gbt = metrics_gbt.precision(label=0.0)\n",
    "recall_0_gbt = metrics_gbt.recall(label=0.0)\n",
    "f1Score_0_gbt = metrics_gbt.fMeasure(label=0.0)\n",
    "precision_1_gbt = metrics_gbt.precision(label=1.0)\n",
    "recall_1_gbt = metrics_gbt.recall(label=1.0)\n",
    "f1Score_1_gbt = metrics_gbt.fMeasure(label=1.0)\n",
    "\n",
    "print(f\"Gradient Boosted Trees - Accuracy: {accuracy_gbt:.4f}\")\n",
    "print(f\"Gradient Boosted Trees - 0 - Precision: {precision_0_gbt:.4f}\")\n",
    "print(f\"Gradient Boosted Trees - 0 - Recall: {recall_0_gbt:.4f}\")\n",
    "print(f\"Gradient Boosted Trees - 0 - F1 Score: {f1Score_0_gbt:.4f}\")\n",
    "print(f\"Gradient Boosted Trees - 1 - Precision: {precision_1_gbt:.4f}\")\n",
    "print(f\"Gradient Boosted Trees - 1 - Recall: {recall_1_gbt:.4f}\")\n",
    "print(f\"Gradient Boosted Trees - 1 - F1 Score: {f1Score_1_gbt:.4f}\")"
   ]
  },
  {
   "cell_type": "code",
   "execution_count": 21,
   "id": "fab7fd6c",
   "metadata": {},
   "outputs": [
    {
     "name": "stdout",
     "output_type": "stream",
     "text": [
      "Accuracy for class 0: 0.6576\n",
      "Accuracy for class 1: 0.8495\n"
     ]
    }
   ],
   "source": [
    "confusion_matrix = metrics_gbt.confusionMatrix().toArray()\n",
    "accuracy_0 = confusion_matrix[0][0] / confusion_matrix[0].sum()\n",
    "accuracy_1 = confusion_matrix[1][1] / confusion_matrix[1].sum()\n",
    "\n",
    "print(f\"Accuracy for class 0: {accuracy_0:.4f}\")\n",
    "print(f\"Accuracy for class 1: {accuracy_1:.4f}\")"
   ]
  },
  {
   "cell_type": "code",
   "execution_count": 22,
   "id": "64b3d3a5",
   "metadata": {},
   "outputs": [
    {
     "name": "stdout",
     "output_type": "stream",
     "text": [
      "Feature Bmi class_Obesity III: 0.1796\n",
      "Feature Medical_History_Count_0: 0.1513\n",
      "Feature Age group_Seniors: 0.1211\n",
      "Feature Bmi class_Obesity II: 0.1034\n",
      "Feature Age group_Older adults: 0.0760\n",
      "Feature Bmi class_Obesity I: 0.0717\n",
      "Feature Age group_Middle-aged: 0.0394\n",
      "Feature smoking_history_never: 0.0330\n",
      "Feature Bmi class_Underweight: 0.0309\n",
      "Feature Bmi class_Normal weight: 0.0306\n",
      "Feature gender_Male: 0.0276\n",
      "Feature smoking_history_current: 0.0263\n",
      "Feature smoking_history_former: 0.0204\n",
      "Feature smoking_history_not current: 0.0172\n",
      "Feature Age group_Young: 0.0142\n",
      "Feature Bmi class_Overweight: 0.0113\n",
      "Feature gender_Female: 0.0099\n",
      "Feature heart_disease: 0.0085\n",
      "Feature Age group_Children: 0.0077\n",
      "Feature Age group_Teenagers: 0.0075\n",
      "Feature smoking_history_ever: 0.0059\n",
      "Feature Medical_History_Count_1: 0.0030\n",
      "Feature hypertension: 0.0019\n",
      "Feature Medical_History_Count_2: 0.0016\n"
     ]
    }
   ],
   "source": [
    "\n",
    "importances = gbt_model.stages[-1].featureImportances\n",
    "\n",
    "feature_importance_list = [(feature, importance) for feature, importance in zip(feature_cols, importances)]\n",
    "sorted_feature_importances = sorted(feature_importance_list, key=lambda x: x[1], reverse=True)\n",
    "\n",
    "for feature, importance in sorted_feature_importances:\n",
    "    print(f\"Feature {feature}: {importance:.4f}\")"
   ]
  },
  {
   "cell_type": "code",
   "execution_count": 23,
   "id": "04361b81",
   "metadata": {},
   "outputs": [
    {
     "name": "stderr",
     "output_type": "stream",
     "text": [
      "                                                                                \r"
     ]
    },
    {
     "data": {
      "image/png": "[encoded data removed]",
      "text/plain": [
       "<Figure size 576x684 with 2 Axes>"
      ]
     },
     "metadata": {
      "needs_background": "light"
     },
     "output_type": "display_data"
    }
   ],
   "source": [
    "import pandas as pd\n",
    "import shap\n",
    "from sklearn.ensemble import GradientBoostingClassifier\n",
    "\n",
    "pandas_df = df_reduced.toPandas()\n",
    "\n",
    "clf = GradientBoostingClassifier(max_depth=4, n_estimators=20, learning_rate=0.1)\n",
    "X = pandas_df[feature_cols]\n",
    "y = pandas_df['diabetes']\n",
    "clf.fit(X, y)\n",
    "\n",
    "explainer = shap.TreeExplainer(clf)\n",
    "shap_values = explainer.shap_values(X)\n",
    "\n",
    "shap.summary_plot(shap_values, X)\n"
   ]
  },
  {
   "cell_type": "code",
   "execution_count": 26,
   "id": "5c1231db",
   "metadata": {},
   "outputs": [
    {
     "name": "stdout",
     "output_type": "stream",
     "text": [
      "Fold 1: 0.7454\n",
      "Fold 2: 0.7612\n",
      "Fold 3: 0.7457\n",
      "Fold 4: 0.7483\n",
      "Fold 5: 0.7389\n",
      "\n",
      "Average Score: 0.7479\n",
      "Standard deviation: 0.0073\n"
     ]
    }
   ],
   "source": [
    "from sklearn.model_selection import cross_val_score, StratifiedKFold\n",
    "\n",
    "skf = StratifiedKFold(n_splits=5, shuffle=True, random_state=42) \n",
    "scores = cross_val_score(clf, X, y, cv=skf)\n",
    "\n",
    "for fold_num, score in enumerate(scores, 1):\n",
    "    print(f\"Fold {fold_num}: {score:.4f}\")\n",
    "print(f\"\\nAverage Score: {scores.mean():.4f}\")\n",
    "\n",
    "print(f\"Standard deviation: {scores.std():.4f}\")"
   ]
  },
  {
   "cell_type": "code",
   "execution_count": 27,
   "id": "e682de5c",
   "metadata": {},
   "outputs": [
    {
     "name": "stderr",
     "output_type": "stream",
     "text": [
      "\r",
      "[Stage 589:>                                                        (0 + 2) / 2]\r"
     ]
    },
    {
     "name": "stdout",
     "output_type": "stream",
     "text": [
      "Area Under ROC (AUC): 0.8312\n"
     ]
    },
    {
     "name": "stderr",
     "output_type": "stream",
     "text": [
      "\r",
      "                                                                                \r"
     ]
    }
   ],
   "source": [
    "from pyspark.ml.evaluation import BinaryClassificationEvaluator, MulticlassClassificationEvaluator\n",
    "\n",
    "binary_evaluator = BinaryClassificationEvaluator(rawPredictionCol=\"rawPrediction\", labelCol=\"diabetes\", metricName=\"areaUnderROC\")\n",
    "auc = binary_evaluator.evaluate(predictions_gbt)\n",
    "print(f\"Area Under ROC (AUC): {auc:.4f}\")"
   ]
  },
  {
   "cell_type": "code",
   "execution_count": 28,
   "id": "b88bdc66",
   "metadata": {},
   "outputs": [
    {
     "ename": "AttributeError",
     "evalue": "'GBTClassificationModel' object has no attribute 'summary'",
     "output_type": "error",
     "traceback": [
      "\u001b[0;31m---------------------------------------------------------------------------\u001b[0m",
      "\u001b[0;31mAttributeError\u001b[0m                            Traceback (most recent call last)",
      "Input \u001b[0;32mIn [28]\u001b[0m, in \u001b[0;36m<cell line: 3>\u001b[0;34m()\u001b[0m\n\u001b[1;32m      1\u001b[0m \u001b[38;5;28;01mimport\u001b[39;00m \u001b[38;5;21;01mmatplotlib\u001b[39;00m\u001b[38;5;21;01m.\u001b[39;00m\u001b[38;5;21;01mpyplot\u001b[39;00m \u001b[38;5;28;01mas\u001b[39;00m \u001b[38;5;21;01mplt\u001b[39;00m\n\u001b[0;32m----> 3\u001b[0m training_summary \u001b[38;5;241m=\u001b[39m \u001b[43mgbt_model\u001b[49m\u001b[38;5;241;43m.\u001b[39;49m\u001b[43mstages\u001b[49m\u001b[43m[\u001b[49m\u001b[38;5;241;43m-\u001b[39;49m\u001b[38;5;241;43m1\u001b[39;49m\u001b[43m]\u001b[49m\u001b[38;5;241;43m.\u001b[39;49m\u001b[43msummary\u001b[49m\n\u001b[1;32m      4\u001b[0m roc \u001b[38;5;241m=\u001b[39m training_summary\u001b[38;5;241m.\u001b[39mroc\u001b[38;5;241m.\u001b[39mtoPandas()\n\u001b[1;32m      6\u001b[0m plt\u001b[38;5;241m.\u001b[39mfigure(figsize\u001b[38;5;241m=\u001b[39m(\u001b[38;5;241m8\u001b[39m,\u001b[38;5;241m6\u001b[39m))\n",
      "\u001b[0;31mAttributeError\u001b[0m: 'GBTClassificationModel' object has no attribute 'summary'"
     ]
    }
   ],
   "source": []
  },
  {
   "cell_type": "code",
   "execution_count": null,
   "id": "8946a5ff",
   "metadata": {},
   "outputs": [],
   "source": []
  }
 ],
 "metadata": {
  "kernelspec": {
   "display_name": "Python 3 (ipykernel)",
   "language": "python",
   "name": "python3"
  },
  "language_info": {
   "codemirror_mode": {
    "name": "ipython",
    "version": 3
   },
   "file_extension": ".py",
   "mimetype": "text/x-python",
   "name": "python",
   "nbconvert_exporter": "python",
   "pygments_lexer": "ipython3",
   "version": "3.10.12"
  }
 },
 "nbformat": 4,
 "nbformat_minor": 5
}
