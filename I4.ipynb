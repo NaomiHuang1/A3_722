{
 "cells": [
  {
   "cell_type": "code",
   "execution_count": 2,
   "id": "ed3bcec3",
   "metadata": {},
   "outputs": [
    {
     "name": "stderr",
     "output_type": "stream",
     "text": [
      "WARNING: An illegal reflective access operation has occurred\n",
      "WARNING: Illegal reflective access by org.apache.spark.unsafe.Platform (file:/home/ubuntu/spark-3.2.1-bin-hadoop2.7/jars/spark-unsafe_2.12-3.2.1.jar) to constructor java.nio.DirectByteBuffer(long,int)\n",
      "WARNING: Please consider reporting this to the maintainers of org.apache.spark.unsafe.Platform\n",
      "WARNING: Use --illegal-access=warn to enable warnings of further illegal reflective access operations\n",
      "WARNING: All illegal access operations will be denied in a future release\n",
      "Using Spark's default log4j profile: org/apache/spark/log4j-defaults.properties\n",
      "Setting default log level to \"WARN\".\n",
      "To adjust logging level use sc.setLogLevel(newLevel). For SparkR, use setLogLevel(newLevel).\n",
      "23/10/08 14:49:51 WARN NativeCodeLoader: Unable to load native-hadoop library for your platform... using builtin-java classes where applicable\n"
     ]
    }
   ],
   "source": [
    "import findspark\n",
    "findspark.init('/home/ubuntu/spark-3.2.1-bin-hadoop2.7')\n",
    "import pyspark\n",
    "from pyspark.sql import SparkSession\n",
    "spark = SparkSession.builder.appName('722_I4').getOrCreate()\n",
    "from pyspark.sql.functions import mean,when\n",
    "from pyspark.sql.functions import count, col, desc\n",
    "from pyspark.sql.functions import sum as spark_sum\n",
    "from pyspark.ml.feature import StringIndexer, OneHotEncoder\n",
    "\n",
    "from pyspark.ml.functions import vector_to_array\n",
    "\n",
    "import pandas as pd\n",
    "import matplotlib.pyplot as plt"
   ]
  },
  {
   "cell_type": "code",
   "execution_count": 3,
   "id": "50420d73",
   "metadata": {},
   "outputs": [
    {
     "name": "stderr",
     "output_type": "stream",
     "text": [
      "\r",
      "[Stage 1:>                                                          (0 + 1) / 1]\r"
     ]
    },
    {
     "name": "stdout",
     "output_type": "stream",
     "text": [
      "root\n",
      " |-- ID: integer (nullable = true)\n",
      " |-- gender: string (nullable = true)\n",
      " |-- age: double (nullable = true)\n",
      "\n"
     ]
    },
    {
     "name": "stderr",
     "output_type": "stream",
     "text": [
      "\r",
      "                                                                                \r"
     ]
    }
   ],
   "source": [
    "df1 = spark.read.csv('Diabetes_1.csv', inferSchema=True, header=True)\n",
    "df1.printSchema()\n"
   ]
  },
  {
   "cell_type": "code",
   "execution_count": 4,
   "id": "c3d88dd6",
   "metadata": {},
   "outputs": [
    {
     "name": "stdout",
     "output_type": "stream",
     "text": [
      "root\n",
      " |-- ID: integer (nullable = true)\n",
      " |-- hypertension: integer (nullable = true)\n",
      " |-- heart_disease: integer (nullable = true)\n",
      " |-- smoking_history: string (nullable = true)\n",
      " |-- bmi: double (nullable = true)\n",
      " |-- HbA1c_level: double (nullable = true)\n",
      " |-- blood_glucose_level: integer (nullable = true)\n",
      " |-- diabetes: integer (nullable = true)\n",
      "\n"
     ]
    },
    {
     "name": "stderr",
     "output_type": "stream",
     "text": [
      "\r",
      "[Stage 3:>                                                          (0 + 1) / 1]\r",
      "\r",
      "                                                                                \r"
     ]
    }
   ],
   "source": [
    "df2 = spark.read.csv('Diabetes_2.csv', inferSchema=True, header=True)\n",
    "df2.printSchema()"
   ]
  },
  {
   "cell_type": "code",
   "execution_count": 5,
   "id": "04d8f8cd",
   "metadata": {},
   "outputs": [
    {
     "name": "stdout",
     "output_type": "stream",
     "text": [
      "root\n",
      " |-- ID: integer (nullable = true)\n",
      " |-- hypertension: integer (nullable = true)\n",
      " |-- heart_disease: integer (nullable = true)\n",
      " |-- smoking_history: string (nullable = true)\n",
      " |-- bmi: double (nullable = true)\n",
      " |-- diabetes: integer (nullable = true)\n",
      "\n"
     ]
    }
   ],
   "source": [
    "df2 = df2.drop('blood_glucose_level', 'HbA1c_level')\n",
    "df2.printSchema()"
   ]
  },
  {
   "cell_type": "code",
   "execution_count": 6,
   "id": "a9f41eb4",
   "metadata": {},
   "outputs": [
    {
     "name": "stdout",
     "output_type": "stream",
     "text": [
      "+---+------+---+\n",
      "| ID|gender|age|\n",
      "+---+------+---+\n",
      "|  0|   164|157|\n",
      "+---+------+---+\n",
      "\n",
      "+---+------------+-------------+---------------+---+--------+\n",
      "| ID|hypertension|heart_disease|smoking_history|bmi|diabetes|\n",
      "+---+------------+-------------+---------------+---+--------+\n",
      "|  0|         161|           95|            253|160|     184|\n",
      "+---+------------+-------------+---------------+---+--------+\n",
      "\n",
      "Number of entries:  100000\n",
      "Number of entries:  100000\n",
      "+---+------+---+\n",
      "| ID|gender|age|\n",
      "+---+------+---+\n",
      "|  0|     0|  0|\n",
      "+---+------+---+\n",
      "\n",
      "+---+------------+-------------+---------------+---+--------+\n",
      "| ID|hypertension|heart_disease|smoking_history|bmi|diabetes|\n",
      "+---+------------+-------------+---------------+---+--------+\n",
      "|  0|           0|            0|              0|  0|       0|\n",
      "+---+------------+-------------+---------------+---+--------+\n",
      "\n"
     ]
    }
   ],
   "source": [
    "missing_counts = df1.select([spark_sum(col(c).isNull().cast(\"int\")).alias(c) for c in df1.columns])\n",
    "missing_counts.show()\n",
    "missing_counts = df2.select([spark_sum(col(c).isNull().cast(\"int\")).alias(c) for c in df2.columns])\n",
    "missing_counts.show()\n",
    "avg_val = df1.agg(mean(df1['age'])).first()[0]\n",
    "df1 = df1.fillna({'age': avg_val})\n",
    "mode_val = df1.groupBy('gender').agg(count('gender').alias('count')).orderBy(desc('count')).first()[0]\n",
    "df1 = df1.fillna({'gender': mode_val})\n",
    "\n",
    "avg_val = df2.agg(mean(df2['hypertension'])).first()[0]\n",
    "df2 = df2.fillna({'hypertension': avg_val})\n",
    "avg_val = df2.agg(mean(df2['heart_disease'])).first()[0]\n",
    "df2 = df2.fillna({'heart_disease': avg_val})\n",
    "avg_val = df2.agg(mean(df2['bmi'])).first()[0]\n",
    "df2 = df2.fillna({'bmi': avg_val})\n",
    "avg_val = df2.agg(mean(df2['diabetes'])).first()[0]\n",
    "df2 = df2.fillna({'diabetes': avg_val})\n",
    "mode_val = df2.groupBy('smoking_history').agg(count('smoking_history').alias('count')).orderBy(desc('count')).first()[0]\n",
    "df2 = df2.fillna({'smoking_history': mode_val})\n",
    "\n",
    "print(\"Number of entries: \", df1.count())\n",
    "print(\"Number of entries: \", df2.count())\n",
    "missing_counts = df1.select([spark_sum(col(c).isNull().cast(\"int\")).alias(c) for c in df1.columns])\n",
    "missing_counts.show()\n",
    "missing_counts = df2.select([spark_sum(col(c).isNull().cast(\"int\")).alias(c) for c in df2.columns])\n",
    "missing_counts.show()"
   ]
  },
  {
   "cell_type": "code",
   "execution_count": 7,
   "id": "c20ead33",
   "metadata": {},
   "outputs": [
    {
     "data": {
      "image/png": "[encoded data removed]",
      "text/plain": [
       "<Figure size 432x288 with 1 Axes>"
      ]
     },
     "metadata": {
      "needs_background": "light"
     },
     "output_type": "display_data"
    }
   ],
   "source": [
    "\n",
    "df2 = df2.filter((df2.bmi <= 100) & (df2.bmi >= 0))\n",
    "df_pd = df2.toPandas()\n",
    "plt.scatter(range(len(df_pd['bmi'])), df_pd['bmi'])\n",
    "plt.title('Scatter plot for BMI')\n",
    "plt.xlabel('Index')\n",
    "plt.ylabel('Value')\n",
    "plt.show()"
   ]
  },
  {
   "cell_type": "code",
   "execution_count": 8,
   "id": "96f66165",
   "metadata": {},
   "outputs": [
    {
     "name": "stdout",
     "output_type": "stream",
     "text": [
      "root\n",
      " |-- ID: integer (nullable = true)\n",
      " |-- gender: string (nullable = false)\n",
      " |-- age: double (nullable = false)\n",
      " |-- hypertension: integer (nullable = true)\n",
      " |-- heart_disease: integer (nullable = true)\n",
      " |-- smoking_history: string (nullable = false)\n",
      " |-- bmi: double (nullable = false)\n",
      " |-- diabetes: integer (nullable = true)\n",
      "\n",
      "Number of entries:  99998\n"
     ]
    }
   ],
   "source": [
    "df = df1.join(df2, 'id', 'inner')\n",
    "df.printSchema()\n",
    "print(\"Number of entries: \", df.count())"
   ]
  },
  {
   "cell_type": "code",
   "execution_count": 9,
   "id": "334e88b6",
   "metadata": {},
   "outputs": [
    {
     "name": "stdout",
     "output_type": "stream",
     "text": [
      "+---+------+----+------------+-------------+---------------+-----+--------+------------+-------------+\n",
      "| ID|gender| age|hypertension|heart_disease|smoking_history|  bmi|diabetes|   Age group|    Bmi class|\n",
      "+---+------+----+------------+-------------+---------------+-----+--------+------------+-------------+\n",
      "|  1|Female|80.0|           0|            1|          never|25.19|       0|     Seniors|   Overweight|\n",
      "|  2|Female|54.0|           0|            0|        No Info|27.32|       0|Older adults|   Overweight|\n",
      "|  3|  Male|28.0|           0|            0|          never|27.32|       0|       Young|   Overweight|\n",
      "|  4|Female|36.0|           0|            0|        current|23.45|       0| Middle-aged|Normal weight|\n",
      "|  5|  Male|76.0|           1|            1|        current|20.14|       0|     Seniors|Normal weight|\n",
      "|  6|Female|20.0|           0|            0|          never|27.32|       0|       Young|   Overweight|\n",
      "|  7|Female|44.0|           0|            0|          never|19.31|       1| Middle-aged|Normal weight|\n",
      "|  8|Female|79.0|           0|            0|        No Info|23.86|       0|     Seniors|Normal weight|\n",
      "|  9|  Male|42.0|           0|            0|          never|33.64|       0| Middle-aged|    Obesity I|\n",
      "| 10|Female|32.0|           0|            0|          never|27.32|       0| Middle-aged|   Overweight|\n",
      "| 11|Female|53.0|           0|            0|          never|27.32|       0|Older adults|   Overweight|\n",
      "| 12|Female|54.0|           0|            0|         former| 54.7|       0|Older adults|  Obesity III|\n",
      "| 13|Female|78.0|           0|            0|         former|36.05|       0|     Seniors|   Obesity II|\n",
      "| 14|Female|67.0|           0|            0|          never|25.69|       0|     Seniors|   Overweight|\n",
      "| 15|Female|76.0|           0|            0|        No Info|27.32|       0|     Seniors|   Overweight|\n",
      "| 16|  Male|78.0|           0|            0|        No Info|27.32|       0|     Seniors|   Overweight|\n",
      "| 17|  Male|15.0|           0|            0|          never|30.36|       0|   Teenagers|    Obesity I|\n",
      "| 18|Female|42.0|           0|            0|          never|24.48|       0| Middle-aged|Normal weight|\n",
      "| 19|Female|42.0|           0|            0|        No Info|27.32|       0| Middle-aged|   Overweight|\n",
      "| 20|  Male|37.0|           0|            0|           ever|25.72|       0| Middle-aged|   Overweight|\n",
      "+---+------+----+------------+-------------+---------------+-----+--------+------------+-------------+\n",
      "only showing top 20 rows\n",
      "\n"
     ]
    }
   ],
   "source": [
    "age_bins = [0, 2, 4, 13, 20, 30, 50, 65, 81]\n",
    "age_labels = [\"Infants\", \"Toddlers\", \"Children\", \"Teenagers\", \"Young\", \"Middle-aged\", \"Older adults\", \"Seniors\"]\n",
    "\n",
    "age_column_expr = when(col(\"age\") < age_bins[0], None)  \n",
    "for i in range(len(age_bins) - 1):\n",
    "    age_column_expr = age_column_expr.when((col(\"age\") >= age_bins[i]) & (col(\"age\") < age_bins[i + 1]), age_labels[i])\n",
    "\n",
    "df = df.withColumn(\"Age group\", age_column_expr)\n",
    "\n",
    "bmi_bins = [0, 18.50, 24.99, 29.99, 34.99, 39.99, 100]\n",
    "bmi_labels = [\"Underweight\", \"Normal weight\", \"Overweight\", \"Obesity I\", \"Obesity II\", \"Obesity III\"]\n",
    "\n",
    "bmi_column_expr = when(col(\"bmi\") < bmi_bins[0], None)  \n",
    "for i in range(len(bmi_bins) - 1):\n",
    "    bmi_column_expr = bmi_column_expr.when((col(\"bmi\") >= bmi_bins[i]) & (col(\"bmi\") < bmi_bins[i + 1]), bmi_labels[i])\n",
    "\n",
    "df = df.withColumn(\"Bmi class\", bmi_column_expr)\n",
    "df.show()"
   ]
  },
  {
   "cell_type": "code",
   "execution_count": 10,
   "id": "158580ec",
   "metadata": {},
   "outputs": [
    {
     "name": "stdout",
     "output_type": "stream",
     "text": [
      "root\n",
      " |-- ID: integer (nullable = true)\n",
      " |-- gender: string (nullable = false)\n",
      " |-- age: double (nullable = false)\n",
      " |-- hypertension: integer (nullable = true)\n",
      " |-- heart_disease: integer (nullable = true)\n",
      " |-- smoking_history: string (nullable = false)\n",
      " |-- bmi: double (nullable = false)\n",
      " |-- diabetes: integer (nullable = true)\n",
      " |-- Age group: string (nullable = true)\n",
      " |-- Bmi class: string (nullable = true)\n",
      " |-- Medical_History_Count: integer (nullable = true)\n",
      "\n"
     ]
    }
   ],
   "source": [
    "medical_features = ['hypertension', 'heart_disease']\n",
    "\n",
    "df = df.withColumn(\"Medical_History_Count\", sum(col(feature) for feature in medical_features))\n",
    "df.printSchema()"
   ]
  },
  {
   "cell_type": "code",
   "execution_count": 11,
   "id": "0729d540",
   "metadata": {},
   "outputs": [
    {
     "name": "stderr",
     "output_type": "stream",
     "text": [
      "                                                                                \r"
     ]
    }
   ],
   "source": [
    "indexer = StringIndexer(inputCol=\"Age group\", outputCol=\"Age group_index\")\n",
    "indexed_model = indexer.fit(df)\n",
    "df = indexed_model.transform(df)\n",
    "labels = indexed_model.labels\n",
    "encoder = OneHotEncoder(inputCols=[\"Age group_index\"], outputCols=[\"Age group_encoded\"], dropLast=False)\n",
    "df = encoder.fit(df).transform(df)\n",
    "num_categories_age = df.select(\"Age group_index\").distinct().count()\n",
    "df = df.withColumn(\"Age group_array\", vector_to_array(\"Age group_encoded\"))\n",
    "for i, label in enumerate(labels):\n",
    "    df = df.withColumn(f\"Age group_{label}\", col(\"Age group_array\")[i].cast(\"int\"))\n",
    "\n",
    "indexer = StringIndexer(inputCol=\"Bmi class\", outputCol=\"Bmi class_index\")\n",
    "indexed_model = indexer.fit(df)\n",
    "df = indexed_model.transform(df)\n",
    "labels = indexed_model.labels\n",
    "encoder = OneHotEncoder(inputCols=[\"Bmi class_index\"], outputCols=[\"Bmi class_encoded\"], dropLast=False)\n",
    "df = encoder.fit(df).transform(df)\n",
    "num_categories_bmi = df.select(\"Bmi class_index\").distinct().count()\n",
    "df = df.withColumn(\"Bmi class_array\", vector_to_array(\"Bmi class_encoded\"))\n",
    "for i, label in enumerate(labels):\n",
    "    df = df.withColumn(f\"Bmi class_{label}\", col(\"Bmi class_array\")[i].cast(\"int\"))\n",
    "\n",
    "\n",
    "indexer = StringIndexer(inputCol=\"gender\", outputCol=\"gender_index\")\n",
    "indexed_model = indexer.fit(df)\n",
    "df = indexed_model.transform(df)\n",
    "labels = indexed_model.labels\n",
    "encoder = OneHotEncoder(inputCols=[\"gender_index\"], outputCols=[\"gender_encoded\"], dropLast=False)\n",
    "df = encoder.fit(df).transform(df)\n",
    "num_categories_gender = df.select(\"gender_index\").distinct().count()\n",
    "df = df.withColumn(\"gender_array\", vector_to_array(\"gender_encoded\"))\n",
    "for i, label in enumerate(labels):\n",
    "    df = df.withColumn(f\"gender_{label}\", col(\"gender_array\")[i].cast(\"int\"))\n",
    "\n",
    "indexer = StringIndexer(inputCol=\"smoking_history\", outputCol=\"smoking_history_index\")\n",
    "indexed_model = indexer.fit(df)\n",
    "df = indexed_model.transform(df)\n",
    "labels = indexed_model.labels\n",
    "encoder = OneHotEncoder(inputCols=[\"smoking_history_index\"], outputCols=[\"smoking_history_encoded\"], dropLast=False)\n",
    "df = encoder.fit(df).transform(df)\n",
    "num_categories_smoking = df.select(\"smoking_history_index\").distinct().count()\n",
    "df = df.withColumn(\"smoking_history_array\", vector_to_array(\"smoking_history_encoded\"))\n",
    "for i, label in enumerate(labels):\n",
    "    df = df.withColumn(f\"smoking_history_{label}\", col(\"smoking_history_array\")[i].cast(\"int\"))\n",
    "\n",
    "indexer = StringIndexer(inputCol=\"Medical_History_Count\", outputCol=\"Medical_History_Count_index\")\n",
    "indexed_model = indexer.fit(df)\n",
    "df = indexed_model.transform(df)\n",
    "labels = indexed_model.labels\n",
    "encoder = OneHotEncoder(inputCols=[\"Medical_History_Count_index\"], outputCols=[\"Medical_History_Count_encoded\"], dropLast=False)\n",
    "df = encoder.fit(df).transform(df)\n",
    "num_categories_medical = df.select(\"Medical_History_Count_index\").distinct().count()\n",
    "df = df.withColumn(\"Medical_History_Count_array\", vector_to_array(\"Medical_History_Count_encoded\"))\n",
    "for i, label in enumerate(labels):\n",
    "    df = df.withColumn(f\"Medical_History_Count_{label}\", col(\"Medical_History_Count_array\")[i].cast(\"int\"))\n",
    "\n",
    "columns_to_drop = [\"Age group_index\", \"Bmi class_index\", \"gender_index\", \"smoking_history_index\", \n",
    "                   \"Medical_History_Count_index\", \"Age group_encoded\", \"Bmi class_encoded\", \n",
    "                   \"gender_encoded\", \"smoking_history_encoded\", \"Medical_History_Count_encoded\", \n",
    "                   \"Age group_array\", \"Bmi class_array\", \"gender_array\", \"smoking_history_array\", \n",
    "                   \"Medical_History_Count_array\"]\n",
    "df = df.drop(*columns_to_drop)\n"
   ]
  },
  {
   "cell_type": "code",
   "execution_count": 12,
   "id": "5683683f",
   "metadata": {},
   "outputs": [
    {
     "data": {
      "text/plain": [
       "['hypertension',\n",
       " 'heart_disease',\n",
       " 'diabetes',\n",
       " 'Age group_Middle-aged',\n",
       " 'Age group_Older adults',\n",
       " 'Age group_Seniors',\n",
       " 'Age group_Young',\n",
       " 'Age group_Children',\n",
       " 'Age group_Teenagers',\n",
       " 'Age group_Toddlers',\n",
       " 'Age group_Infants',\n",
       " 'Bmi class_Overweight',\n",
       " 'Bmi class_Normal weight',\n",
       " 'Bmi class_Obesity I',\n",
       " 'Bmi class_Underweight',\n",
       " 'Bmi class_Obesity II',\n",
       " 'Bmi class_Obesity III',\n",
       " 'gender_Female',\n",
       " 'gender_Male',\n",
       " 'gender_Other',\n",
       " 'smoking_history_never',\n",
       " 'smoking_history_former',\n",
       " 'smoking_history_current',\n",
       " 'smoking_history_not current',\n",
       " 'smoking_history_ever',\n",
       " 'Medical_History_Count_0',\n",
       " 'Medical_History_Count_1',\n",
       " 'Medical_History_Count_2']"
      ]
     },
     "execution_count": 12,
     "metadata": {},
     "output_type": "execute_result"
    }
   ],
   "source": [
    "\n",
    "columns_to_keep = ['hypertension','heart_disease','diabetes','Age group_Middle-aged','Age group_Older adults',\n",
    "                   'Age group_Seniors','Age group_Young','Age group_Children','Age group_Teenagers','Age group_Toddlers',\n",
    "                   'Age group_Infants','Bmi class_Overweight','Bmi class_Normal weight','Bmi class_Obesity I',\n",
    "                   'Bmi class_Underweight','Bmi class_Obesity II','Bmi class_Obesity III', 'gender_Female','gender_Male',\n",
    "                   'gender_Other', 'smoking_history_never','smoking_history_former','smoking_history_current','smoking_history_not current',\n",
    "                   'smoking_history_ever','Medical_History_Count_0','Medical_History_Count_1','Medical_History_Count_2'\n",
    "]\n",
    "\n",
    "df = df.select(columns_to_keep)"
   ]
  },
  {
   "cell_type": "code",
   "execution_count": 13,
   "id": "f2dd7b20",
   "metadata": {},
   "outputs": [
    {
     "name": "stdout",
     "output_type": "stream",
     "text": [
      "Number of entries:  64104\n"
     ]
    },
    {
     "data": {
      "text/plain": [
       "28"
      ]
     },
     "execution_count": 13,
     "metadata": {},
     "output_type": "execute_result"
    }
   ],
   "source": [
    "df_select = df2[df2['smoking_history'] != 'No Info']\n",
    "print(\"Number of entries: \", df_select.count())\n"
   ]
  },
  {
   "cell_type": "code",
   "execution_count": 14,
   "id": "bf8148ed",
   "metadata": {},
   "outputs": [
    {
     "name": "stderr",
     "output_type": "stream",
     "text": [
      "                                                                                \r"
     ]
    },
    {
     "name": "stdout",
     "output_type": "stream",
     "text": [
      "Medical_History_Count_0: 0.2750476354896274\n",
      "Age group_Seniors: 0.17294872490098095\n",
      "Medical_History_Count_1: 0.14795701319936586\n",
      "hypertension: 0.10347371551209998\n",
      "heart_disease: 0.09786833183230986\n",
      "Bmi class_Obesity III: 0.08103409985874106\n",
      "Bmi class_Obesity II: 0.03804773812698891\n",
      "Age group_Older adults: 0.025147386713881725\n",
      "smoking_history_former: 0.010146766125788466\n",
      "Age group_Young: 0.009788379968807376\n",
      "Bmi class_Overweight: 0.009620969462939102\n",
      "Medical_History_Count_2: 0.006724199316328204\n",
      "Bmi class_Obesity I: 0.004356718484000921\n",
      "Age group_Middle-aged: 0.004088431554412919\n",
      "Age group_Children: 0.003801014732248373\n",
      "Bmi class_Normal weight: 0.0032395955524961075\n",
      "Bmi class_Underweight: 0.0015066370714340131\n",
      "gender_Female: 0.0009839309075166326\n",
      "Age group_Teenagers: 0.0009380200689783458\n",
      "gender_Male: 0.0008020634411625231\n",
      "smoking_history_not current: 0.0007759375168484241\n",
      "smoking_history_never: 0.000627083241138104\n",
      "smoking_history_current: 0.0005698610912972863\n",
      "smoking_history_ever: 0.0005057458306075361\n",
      "Age group_Toddlers: 0.0\n",
      "Age group_Infants: 0.0\n",
      "gender_Other: 0.0\n"
     ]
    }
   ],
   "source": [
    "from pyspark.ml.classification import RandomForestClassifier\n",
    "from pyspark.ml.feature import VectorAssembler\n",
    "\n",
    "input_columns = [col for col in df.columns if col != 'diabetes']\n",
    "assembler = VectorAssembler(inputCols=input_columns, outputCol=\"features\")\n",
    "data = assembler.transform(df)\n",
    "\n",
    "x = data.select(\"features\")\n",
    "y = data.select(\"diabetes\")\n",
    "\n",
    "clf = RandomForestClassifier(numTrees=100, labelCol=\"diabetes\", featuresCol=\"features\")\n",
    "model = clf.fit(data)\n",
    "\n",
    "importances = model.featureImportances\n",
    "feature_importance = dict(zip(input_columns, importances))\n",
    "\n",
    "sorted_feature_importance = sorted(feature_importance.items(), key=lambda x: x[1], reverse=True)\n",
    "for feature, importance in sorted_feature_importance:\n",
    "    print(f\"{feature}: {importance}\")"
   ]
  },
  {
   "cell_type": "code",
   "execution_count": 15,
   "id": "771f2c7f",
   "metadata": {},
   "outputs": [
    {
     "data": {
      "text/plain": [
       "['hypertension',\n",
       " 'heart_disease',\n",
       " 'diabetes',\n",
       " 'Age group_Middle-aged',\n",
       " 'Age group_Older adults',\n",
       " 'Age group_Seniors',\n",
       " 'Age group_Young',\n",
       " 'Age group_Children',\n",
       " 'Age group_Teenagers',\n",
       " 'Bmi class_Overweight',\n",
       " 'Bmi class_Normal weight',\n",
       " 'Bmi class_Obesity I',\n",
       " 'Bmi class_Underweight',\n",
       " 'Bmi class_Obesity II',\n",
       " 'Bmi class_Obesity III',\n",
       " 'gender_Female',\n",
       " 'gender_Male',\n",
       " 'smoking_history_never',\n",
       " 'smoking_history_former',\n",
       " 'smoking_history_current',\n",
       " 'smoking_history_not current',\n",
       " 'smoking_history_ever',\n",
       " 'Medical_History_Count_0',\n",
       " 'Medical_History_Count_1',\n",
       " 'Medical_History_Count_2']"
      ]
     },
     "execution_count": 15,
     "metadata": {},
     "output_type": "execute_result"
    }
   ],
   "source": [
    "non_important_features = ['Age group_Toddlers', 'Age group_Infants', 'gender_Other']\n",
    "for feature in non_important_features:\n",
    "    df = df.drop(feature)\n",
    "df.columns"
   ]
  },
  {
   "cell_type": "code",
   "execution_count": 48,
   "id": "d9152e26",
   "metadata": {},
   "outputs": [
    {
     "name": "stdout",
     "output_type": "stream",
     "text": [
      "{0.0: 91503, 1.0: 8495}\n",
      "{1.0: 8495, 0.0: 8441}\n",
      "+--------+-----+\n",
      "|diabetes|count|\n",
      "+--------+-----+\n",
      "|     1.0| 8495|\n",
      "|     0.0| 8441|\n",
      "+--------+-----+\n",
      "\n"
     ]
    }
   ],
   "source": [
    "diabetes_counts = df.groupBy('diabetes').count().collect()\n",
    "print({row['diabetes']: row['count'] for row in diabetes_counts})\n",
    "\n",
    "df_high = df.filter(col('diabetes') == 0)\n",
    "df_low = df.filter(col('diabetes') == 1)\n",
    "fraction = df_low.count() / df_high.count()\n",
    "df_high_reduce = df_high.sample(False, fraction)\n",
    "df_reduced = df_low.union(df_high_reduce)\n",
    "\n",
    "reduced_diabetes_counts = df_reduced.groupBy('diabetes').count().collect()\n",
    "print({row['diabetes']: row['count'] for row in reduced_diabetes_counts})\n"
   ]
  },
  {
   "cell_type": "code",
   "execution_count": null,
   "id": "4a1f9ed9",
   "metadata": {},
   "outputs": [
    {
     "name": "stderr",
     "output_type": "stream",
     "text": [
      "                                                                                \r"
     ]
    },
    {
     "name": "stdout",
     "output_type": "stream",
     "text": [
      "Decision Tree - Accuracy: 0.7372\n"
     ]
    },
    {
     "name": "stderr",
     "output_type": "stream",
     "text": [
      "\r",
      "[Stage 1142:>                                                       (0 + 1) / 1]\r",
      "\r",
      "                                                                                \r"
     ]
    }
   ],
   "source": [
    "from pyspark.ml import Pipeline\n",
    "from pyspark.ml.feature import VectorAssembler\n",
    "from pyspark.ml.evaluation import MulticlassClassificationEvaluator\n",
    "from pyspark.mllib.evaluation import MulticlassMetrics\n",
    "from pyspark.ml.classification import DecisionTreeClassifier\n",
    "\n",
    "assembler = VectorAssembler(inputCols=feature_cols, outputCol=\"features\")\n",
    "train_data, test_data = df_reduced.randomSplit([0.8, 0.2], seed=42)\n",
    "\n",
    "dt_classifier = DecisionTreeClassifier(labelCol=\"diabetes\", featuresCol=\"features\")\n",
    "pipeline = Pipeline(stages=[assembler, dt_classifier])\n",
    "dt_model = pipeline.fit(train_data)\n",
    "predictions_dt = dt_model.transform(test_data)\n",
    "\n",
    "accuracy_dt = MulticlassClassificationEvaluator(labelCol=\"diabetes\", predictionCol=\"prediction\", metricName=\"accuracy\").evaluate(predictions_dt)\n",
    "print(f\"Decision Tree - Accuracy: {accuracy_dt:.4f}\")\n",
    "\n",
    "predictionLabels_dt = predictions_dt.select(\"prediction\", \"diabetes\").rdd\n",
    "metrics_dt = MulticlassMetrics(predictionLabels_dt)\n",
    "\n",
    "precision_0_dt = metrics_dt.precision(label=0.0)\n",
    "recall_0_dt = metrics_dt.recall(label=0.0)\n",
    "f1Score_0_dt = metrics_dt.fMeasure(label=0.0)\n",
    "precision_1_dt = metrics_dt.precision(label=1.0)\n",
    "recall_1_dt = metrics_dt.recall(label=1.0)\n",
    "f1Score_1_dt = metrics_dt.fMeasure(label=1.0)\n",
    "\n",
    "print(f\"Decision Tree - 0 - Precision: {precision_0_dt:.4f}\")\n",
    "print(f\"Decision Tree - 0 - Recall: {recall_0_dt:.4f}\")\n",
    "print(f\"Decision Tree - 0 - F1 Score: {f1Score_0_dt:.4f}\")\n",
    "print(f\"Decision Tree - 1 - Precision: {precision_1_dt:.4f}\")\n",
    "print(f\"Decision Tree - 1 - Recall: {recall_1_dt:.4f}\")\n",
    "print(f\"Decision Tree - 1 - F1 Score: {f1Score_1_dt:.4f}\")\n"
   ]
  },
  {
   "cell_type": "code",
   "execution_count": 54,
   "id": "b6812f5e",
   "metadata": {},
   "outputs": [
    {
     "name": "stderr",
     "output_type": "stream",
     "text": [
      "                                                                                \r"
     ]
    },
    {
     "name": "stdout",
     "output_type": "stream",
     "text": [
      "Random Forest - Accuracy: 0.7469\n"
     ]
    },
    {
     "name": "stderr",
     "output_type": "stream",
     "text": [
      "[Stage 903:>                                                        (0 + 2) / 2]\r"
     ]
    },
    {
     "name": "stdout",
     "output_type": "stream",
     "text": [
      "Random Forest - 0 - Precision: 0.7570\n",
      "Random Forest - 0 - Recall: 0.7338\n",
      "Random Forest - 0 - F1 Score: 0.7452\n",
      "Random Forest - 1 - Precision: 0.7373\n",
      "Random Forest - 1 - Recall: 0.7602\n",
      "Random Forest - 1 - F1 Score: 0.7486\n"
     ]
    },
    {
     "name": "stderr",
     "output_type": "stream",
     "text": [
      "\r",
      "                                                                                \r"
     ]
    }
   ],
   "source": [
    "from pyspark.ml.classification import RandomForestClassifier\n",
    "\n",
    "assembler = VectorAssembler(inputCols=feature_cols, outputCol=\"features\")\n",
    "train_data, test_data = df_reduced.randomSplit([0.8, 0.2], seed=42)\n",
    "\n",
    "rf_classifier = RandomForestClassifier(labelCol=\"diabetes\", featuresCol=\"features\")\n",
    "pipeline = Pipeline(stages=[assembler, rf_classifier])\n",
    "rf_model = pipeline.fit(train_data)\n",
    "\n",
    "predictions_rf = rf_model.transform(test_data)\n",
    "\n",
    "accuracy_rf = MulticlassClassificationEvaluator(labelCol=\"diabetes\", predictionCol=\"prediction\", metricName=\"accuracy\").evaluate(predictions_rf)\n",
    "print(f\"Random Forest - Accuracy: {accuracy_rf:.4f}\")\n",
    "\n",
    "predictionLabels_rf = predictions_rf.select(\"prediction\", \"diabetes\").rdd\n",
    "metrics_rf = MulticlassMetrics(predictionLabels_rf)\n",
    "\n",
    "precision_0_rf = metrics_rf.precision(label=0.0)\n",
    "recall_0_rf = metrics_rf.recall(label=0.0)\n",
    "f1Score_0_rf = metrics_rf.fMeasure(label=0.0)\n",
    "precision_1_rf = metrics_rf.precision(label=1.0)\n",
    "recall_1_rf = metrics_rf.recall(label=1.0)\n",
    "f1Score_1_rf = metrics_rf.fMeasure(label=1.0)\n",
    "\n",
    "print(f\"Random Forest - 0 - Precision: {precision_0_rf:.4f}\")\n",
    "print(f\"Random Forest - 0 - Recall: {recall_0_rf:.4f}\")\n",
    "print(f\"Random Forest - 0 - F1 Score: {f1Score_0_rf:.4f}\")\n",
    "print(f\"Random Forest - 1 - Precision: {precision_1_rf:.4f}\")\n",
    "print(f\"Random Forest - 1 - Recall: {recall_1_rf:.4f}\")\n",
    "print(f\"Random Forest - 1 - F1 Score: {f1Score_1_rf:.4f}\")\n"
   ]
  },
  {
   "cell_type": "code",
   "execution_count": 55,
   "id": "41cc6eaa",
   "metadata": {},
   "outputs": [
    {
     "name": "stderr",
     "output_type": "stream",
     "text": [
      "23/10/08 16:10:02 WARN InstanceBuilder$NativeBLAS: Failed to load implementation from:dev.ludovic.netlib.blas.JNIBLAS\n",
      "23/10/08 16:10:02 WARN InstanceBuilder$NativeBLAS: Failed to load implementation from:dev.ludovic.netlib.blas.ForeignLinkerBLAS\n",
      "                                                                                \r"
     ]
    },
    {
     "name": "stdout",
     "output_type": "stream",
     "text": [
      "Gradient Boosted Trees - Accuracy: 0.7563\n"
     ]
    },
    {
     "name": "stderr",
     "output_type": "stream",
     "text": [
      "[Stage 1116:>                                                       (0 + 2) / 2]\r"
     ]
    },
    {
     "name": "stdout",
     "output_type": "stream",
     "text": [
      "Gradient Boosted Trees - 0 - Precision: 0.7773\n",
      "Gradient Boosted Trees - 0 - Recall: 0.7242\n",
      "Gradient Boosted Trees - 0 - F1 Score: 0.7498\n",
      "Gradient Boosted Trees - 1 - Precision: 0.7376\n",
      "Gradient Boosted Trees - 1 - Recall: 0.7889\n",
      "Gradient Boosted Trees - 1 - F1 Score: 0.7624\n"
     ]
    },
    {
     "name": "stderr",
     "output_type": "stream",
     "text": [
      "\r",
      "[Stage 1116:============================>                           (1 + 1) / 2]\r",
      "\r",
      "                                                                                \r"
     ]
    }
   ],
   "source": [
    "from pyspark.ml.classification import GBTClassifier\n",
    "\n",
    "assembler = VectorAssembler(inputCols=feature_cols, outputCol=\"features\")\n",
    "train_data, test_data = df_reduced.randomSplit([0.8, 0.2], seed=42)\n",
    "\n",
    "gbt_classifier = GBTClassifier(labelCol=\"diabetes\", featuresCol=\"features\")\n",
    "pipeline = Pipeline(stages=[assembler, gbt_classifier])\n",
    "gbt_model = pipeline.fit(train_data)\n",
    "\n",
    "predictions_gbt = gbt_model.transform(test_data)\n",
    "\n",
    "accuracy_gbt = MulticlassClassificationEvaluator(labelCol=\"diabetes\", predictionCol=\"prediction\", metricName=\"accuracy\").evaluate(predictions_gbt)\n",
    "print(f\"Gradient Boosted Trees - Accuracy: {accuracy_gbt:.4f}\")\n",
    "\n",
    "predictionLabels_gbt = predictions_gbt.select(\"prediction\", \"diabetes\").rdd\n",
    "metrics_gbt = MulticlassMetrics(predictionLabels_gbt)\n",
    "\n",
    "precision_0_gbt = metrics_gbt.precision(label=0.0)\n",
    "recall_0_gbt = metrics_gbt.recall(label=0.0)\n",
    "f1Score_0_gbt = metrics_gbt.fMeasure(label=0.0)\n",
    "precision_1_gbt = metrics_gbt.precision(label=1.0)\n",
    "recall_1_gbt = metrics_gbt.recall(label=1.0)\n",
    "f1Score_1_gbt = metrics_gbt.fMeasure(label=1.0)\n",
    "\n",
    "print(f\"Gradient Boosted Trees - 0 - Precision: {precision_0_gbt:.4f}\")\n",
    "print(f\"Gradient Boosted Trees - 0 - Recall: {recall_0_gbt:.4f}\")\n",
    "print(f\"Gradient Boosted Trees - 0 - F1 Score: {f1Score_0_gbt:.4f}\")\n",
    "print(f\"Gradient Boosted Trees - 1 - Precision: {precision_1_gbt:.4f}\")\n",
    "print(f\"Gradient Boosted Trees - 1 - Recall: {recall_1_gbt:.4f}\")\n",
    "print(f\"Gradient Boosted Trees - 1 - F1 Score: {f1Score_1_gbt:.4f}\")\n"
   ]
  },
  {
   "cell_type": "code",
   "execution_count": null,
   "id": "29eb5550",
   "metadata": {},
   "outputs": [],
   "source": []
  }
 ],
 "metadata": {
  "kernelspec": {
   "display_name": "Python 3 (ipykernel)",
   "language": "python",
   "name": "python3"
  },
  "language_info": {
   "codemirror_mode": {
    "name": "ipython",
    "version": 3
   },
   "file_extension": ".py",
   "mimetype": "text/x-python",
   "name": "python",
   "nbconvert_exporter": "python",
   "pygments_lexer": "ipython3",
   "version": "3.10.12"
  }
 },
 "nbformat": 4,
 "nbformat_minor": 5
}
