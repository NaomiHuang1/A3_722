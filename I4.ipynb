{
 "cells": [
  {
   "cell_type": "code",
   "execution_count": 27,
   "id": "ed3bcec3",
   "metadata": {},
   "outputs": [],
   "source": [
    "import findspark\n",
    "findspark.init('/home/ubuntu/spark-3.2.1-bin-hadoop2.7')\n",
    "import pyspark\n",
    "from pyspark.sql import SparkSession\n",
    "spark = SparkSession.builder.appName('722_I4').getOrCreate()\n",
    "from pyspark.sql.functions import mean\n",
    "from pyspark.sql.functions import count, col, desc\n"
   ]
  },
  {
   "cell_type": "code",
   "execution_count": 28,
   "id": "50420d73",
   "metadata": {},
   "outputs": [
    {
     "name": "stdout",
     "output_type": "stream",
     "text": [
      "root\n",
      " |-- ID: integer (nullable = true)\n",
      " |-- gender: string (nullable = true)\n",
      " |-- age: double (nullable = true)\n",
      "\n"
     ]
    }
   ],
   "source": [
    "df1 = spark.read.csv('Diabetes_1.csv', inferSchema=True, header=True)\n",
    "df1.printSchema()"
   ]
  },
  {
   "cell_type": "code",
   "execution_count": 29,
   "id": "c3d88dd6",
   "metadata": {},
   "outputs": [
    {
     "name": "stdout",
     "output_type": "stream",
     "text": [
      "root\n",
      " |-- ID: integer (nullable = true)\n",
      " |-- hypertension: integer (nullable = true)\n",
      " |-- heart_disease: integer (nullable = true)\n",
      " |-- smoking_history: string (nullable = true)\n",
      " |-- bmi: double (nullable = true)\n",
      " |-- HbA1c_level: double (nullable = true)\n",
      " |-- blood_glucose_level: integer (nullable = true)\n",
      " |-- diabetes: integer (nullable = true)\n",
      "\n"
     ]
    }
   ],
   "source": [
    "df2 = spark.read.csv('Diabetes_2.csv', inferSchema=True, header=True)\n",
    "df2.printSchema()"
   ]
  },
  {
   "cell_type": "code",
   "execution_count": 36,
   "id": "04d8f8cd",
   "metadata": {},
   "outputs": [
    {
     "name": "stdout",
     "output_type": "stream",
     "text": [
      "root\n",
      " |-- ID: integer (nullable = true)\n",
      " |-- hypertension: integer (nullable = true)\n",
      " |-- heart_disease: integer (nullable = true)\n",
      " |-- smoking_history: string (nullable = true)\n",
      " |-- bmi: double (nullable = true)\n",
      " |-- diabetes: integer (nullable = true)\n",
      "\n",
      "Number of entries:  100000\n"
     ]
    }
   ],
   "source": [
    "df2 = df2.drop('blood_glucose_level', 'HbA1c_level')\n",
    "df2.printSchema()"
   ]
  },
  {
   "cell_type": "code",
   "execution_count": 44,
   "id": "a9f41eb4",
   "metadata": {},
   "outputs": [],
   "source": [
    "avg_val = df1.agg(mean(df1['age'])).first()[0]\n",
    "df1 = df1.fillna({'age': avg_val})\n",
    "mode_val = df1.groupBy('gender').agg(count('gender').alias('count')).orderBy(desc('count')).first()[0]\n",
    "df1 = df1.fillna({'gender': mode_val})\n",
    "\n",
    "avg_val = df2.agg(mean(df2['hypertension'])).first()[0]\n",
    "df2 = df2.fillna({'hypertension': avg_val})\n",
    "avg_val = df2.agg(mean(df2['heart_disease'])).first()[0]\n",
    "df2 = df2.fillna({'heart_disease': avg_val})\n",
    "avg_val = df2.agg(mean(df2['bmi'])).first()[0]\n",
    "df2 = df2.fillna({'bmi': avg_val})\n",
    "avg_val = df2.agg(mean(df2['diabetes'])).first()[0]\n",
    "df2 = df2.fillna({'diabetes': avg_val})\n",
    "mode_val = df2.groupBy('smoking_history').agg(count('smoking_history').alias('count')).orderBy(desc('count')).first()[0]\n",
    "df2 = df2.fillna({'smoking_history': mode_val})"
   ]
  },
  {
   "cell_type": "code",
   "execution_count": null,
   "id": "c20ead33",
   "metadata": {},
   "outputs": [],
   "source": []
  },
  {
   "cell_type": "code",
   "execution_count": null,
   "id": "96f66165",
   "metadata": {},
   "outputs": [],
   "source": []
  },
  {
   "cell_type": "code",
   "execution_count": null,
   "id": "334e88b6",
   "metadata": {},
   "outputs": [],
   "source": []
  },
  {
   "cell_type": "code",
   "execution_count": 16,
   "id": "f2dd7b20",
   "metadata": {},
   "outputs": [
    {
     "name": "stdout",
     "output_type": "stream",
     "text": [
      "Number of entries:  64105\n",
      "root\n",
      " |-- ID: integer (nullable = true)\n",
      " |-- hypertension: integer (nullable = true)\n",
      " |-- heart_disease: integer (nullable = true)\n",
      " |-- smoking_history: string (nullable = true)\n",
      " |-- bmi: double (nullable = true)\n",
      " |-- HbA1c_level: double (nullable = true)\n",
      " |-- blood_glucose_level: integer (nullable = true)\n",
      " |-- diabetes: integer (nullable = true)\n",
      "\n"
     ]
    }
   ],
   "source": [
    "df_select = df2[df2['smoking_history'] != 'No Info']\n",
    "print(\"Number of entries: \", df_select.count())\n",
    "df2.printSchema()"
   ]
  },
  {
   "cell_type": "code",
   "execution_count": null,
   "id": "bf8148ed",
   "metadata": {},
   "outputs": [],
   "source": []
  }
 ],
 "metadata": {
  "kernelspec": {
   "display_name": "Python 3 (ipykernel)",
   "language": "python",
   "name": "python3"
  },
  "language_info": {
   "codemirror_mode": {
    "name": "ipython",
    "version": 3
   },
   "file_extension": ".py",
   "mimetype": "text/x-python",
   "name": "python",
   "nbconvert_exporter": "python",
   "pygments_lexer": "ipython3",
   "version": "3.10.12"
  }
 },
 "nbformat": 4,
 "nbformat_minor": 5
}
